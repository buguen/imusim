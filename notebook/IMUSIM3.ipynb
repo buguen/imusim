{
 "metadata": {
  "name": "IMUSIM3"
 },
 "nbformat": 3,
 "nbformat_minor": 0,
 "worksheets": [
  {
   "cells": [
    {
     "cell_type": "code",
     "collapsed": false,
     "input": [
      ">>> from imusim.all import *\n",
      ">>> samplingPeriod = 0.01\n",
      ">>> imu = Orient3IMU()\n",
      ">>> env = Environment()\n",
      ">>> samples = 1000\n",
      ">>> rotationalVelocity = 20\n",
      ">>> calibrator = ScaleAndOffsetCalibrator(env, samples, samplingPeriod, rotationalVelocity)\n",
      ">>> calibration = calibrator.calibrate(imu)\n",
      ">>> model = loadBVHFile('../data/walk.bvh', CM_TO_M_CONVERSION)\n",
      ">>> splinedModel = SplinedBodyModel(model)\n",
      ">>> sim = Simulation(environment=env)\n",
      ">>> imu.simulation = sim\n",
      ">>> imu.trajectory = splinedModel.getJoint('rfoot')\n",
      ">>> sim.time = splinedModel.startTime\n",
      ">>> BasicIMUBehaviour(imu, samplingPeriod, calibration, initialTime=sim.time)\n",
      ">>> sim.run(splinedModel.endTime)\n",
      ">>> plot(imu.accelerometer.calibratedMeasurements)\n",
      ">>> title(\"Accelerometer Readings\")\n",
      ">>> xlabel(\"Time (s)\")\n",
      ">>> ylabel(\"Acceleration (m/s^2)\")\n",
      ">>> legend()"
     ],
     "language": "python",
     "metadata": {},
     "outputs": [
      {
       "output_type": "stream",
       "stream": "stdout",
       "text": [
        "Simulating...\n",
        "Simulated 0.2s of 3.9s (  5%). Estimated time remaining 1.0s"
       ]
      },
      {
       "output_type": "stream",
       "stream": "stdout",
       "text": [
        "\n",
        "Simulated 0.4s of 3.9s ( 10%). Estimated time remaining 1.0s"
       ]
      },
      {
       "output_type": "stream",
       "stream": "stdout",
       "text": [
        "\n",
        "Simulated 0.6s of 3.9s ( 15%). Estimated time remaining 0.9s"
       ]
      },
      {
       "output_type": "stream",
       "stream": "stdout",
       "text": [
        "\n",
        "Simulated 0.8s of 3.9s ( 20%). Estimated time remaining 0.9s"
       ]
      },
      {
       "output_type": "stream",
       "stream": "stdout",
       "text": [
        "\n",
        "Simulated 1.0s of 3.9s ( 25%). Estimated time remaining 0.9s"
       ]
      },
      {
       "output_type": "stream",
       "stream": "stdout",
       "text": [
        "\n",
        "Simulated 1.2s of 3.9s ( 30%). Estimated time remaining 0.8s"
       ]
      },
      {
       "output_type": "stream",
       "stream": "stdout",
       "text": [
        "\n",
        "Simulated 1.4s of 3.9s ( 35%). Estimated time remaining 0.7s"
       ]
      },
      {
       "output_type": "stream",
       "stream": "stdout",
       "text": [
        "\n",
        "Simulated 1.5s of 3.9s ( 40%). Estimated time remaining 0.7s"
       ]
      },
      {
       "output_type": "stream",
       "stream": "stdout",
       "text": [
        "\n",
        "Simulated 1.7s of 3.9s ( 45%). Estimated time remaining 0.6s"
       ]
      },
      {
       "output_type": "stream",
       "stream": "stdout",
       "text": [
        "\n",
        "Simulated 1.9s of 3.9s ( 50%). Estimated time remaining 0.6s"
       ]
      },
      {
       "output_type": "stream",
       "stream": "stdout",
       "text": [
        "\n",
        "Simulated 2.1s of 3.9s ( 55%). Estimated time remaining 0.5s"
       ]
      },
      {
       "output_type": "stream",
       "stream": "stdout",
       "text": [
        "\n",
        "Simulated 2.3s of 3.9s ( 60%). Estimated time remaining 0.5s"
       ]
      },
      {
       "output_type": "stream",
       "stream": "stdout",
       "text": [
        "\n",
        "Simulated 2.5s of 3.9s ( 65%). Estimated time remaining 0.4s"
       ]
      },
      {
       "output_type": "stream",
       "stream": "stdout",
       "text": [
        "\n",
        "Simulated 2.7s of 3.9s ( 70%). Estimated time remaining 0.4s"
       ]
      },
      {
       "output_type": "stream",
       "stream": "stdout",
       "text": [
        "\n",
        "Simulated 2.9s of 3.9s ( 75%). Estimated time remaining 0.3s"
       ]
      },
      {
       "output_type": "stream",
       "stream": "stdout",
       "text": [
        "\n",
        "Simulated 3.1s of 3.9s ( 80%). Estimated time remaining 0.3s"
       ]
      },
      {
       "output_type": "stream",
       "stream": "stdout",
       "text": [
        "\n",
        "Simulated 3.3s of 3.9s ( 85%). Estimated time remaining 0.2s"
       ]
      },
      {
       "output_type": "stream",
       "stream": "stdout",
       "text": [
        "\n",
        "Simulated 3.5s of 3.9s ( 90%). Estimated time remaining 0.2s"
       ]
      },
      {
       "output_type": "stream",
       "stream": "stdout",
       "text": [
        "\n",
        "Simulated 3.7s of 3.9s ( 95%). Estimated time remaining 0.1s"
       ]
      },
      {
       "output_type": "stream",
       "stream": "stdout",
       "text": [
        "\n",
        "Simulated 3.9s of 3.9s (100%). Estimated time remaining 0.1s"
       ]
      },
      {
       "output_type": "stream",
       "stream": "stdout",
       "text": [
        "\n",
        "Simulation complete.\n",
        "Simulated 3.9 seconds in 1.1 seconds.\n"
       ]
      },
      {
       "metadata": {},
       "output_type": "pyout",
       "prompt_number": 1,
       "text": [
        "<matplotlib.legend.Legend at 0x88d3710>"
       ]
      },
      {
       "metadata": {},
       "output_type": "display_data",
       "png": "[encoded data removed]",
       "text": [
        "<matplotlib.figure.Figure at 0x84d8b50>"
       ]
      }
     ],
     "prompt_number": 1
    },
    {
     "cell_type": "code",
     "collapsed": false,
     "input": [
      "imu.trajectory.position(0.3)"
     ],
     "language": "python",
     "metadata": {},
     "outputs": [
      {
       "metadata": {},
       "output_type": "pyout",
       "prompt_number": 2,
       "text": [
        "array([[-1.22636031],\n",
        "       [-0.02025308],\n",
        "       [-0.1941375 ]])"
       ]
      }
     ],
     "prompt_number": 2
    },
    {
     "cell_type": "code",
     "collapsed": false,
     "input": [
      "imu.trajectory.velocity(0.8)\n"
     ],
     "language": "python",
     "metadata": {},
     "outputs": [
      {
       "metadata": {},
       "output_type": "pyout",
       "prompt_number": 4,
       "text": [
        "array([[ 0.02819421],\n",
        "       [ 0.00643287],\n",
        "       [-0.00031796]])"
       ]
      }
     ],
     "prompt_number": 4
    },
    {
     "cell_type": "code",
     "collapsed": false,
     "input": [
      "imu.trajectory.rotation(0.3)"
     ],
     "language": "python",
     "metadata": {},
     "outputs": [
      {
       "metadata": {},
       "output_type": "pyout",
       "prompt_number": 5,
       "text": [
        "Quaternion(0.8768548398254732, -0.040495118074342445, 0.47479310725232576, 0.06369647237069295)"
       ]
      }
     ],
     "prompt_number": 5
    },
    {
     "cell_type": "code",
     "collapsed": false,
     "input": [],
     "language": "python",
     "metadata": {},
     "outputs": []
    }
   ],
   "metadata": {}
  }
 ]
}