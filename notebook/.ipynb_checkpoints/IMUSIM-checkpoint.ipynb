{
 "metadata": {
  "name": "IMUSIM"
 },
 "nbformat": 3,
 "nbformat_minor": 0,
 "worksheets": [
  {
   "cells": [
    {
     "cell_type": "code",
     "collapsed": false,
     "input": [
      "from imusim.all import *"
     ],
     "language": "python",
     "metadata": {},
     "outputs": [],
     "prompt_number": 2
    },
    {
     "cell_type": "code",
     "collapsed": false,
     "input": [
      "    # Create a simulation\n",
      "sim=Simulation()"
     ],
     "language": "python",
     "metadata": {},
     "outputs": [],
     "prompt_number": 3
    },
    {
     "cell_type": "code",
     "collapsed": false,
     "input": [
      "# Create a randomly defined trajectory\n",
      "trajectory = RandomTrajectory()"
     ],
     "language": "python",
     "metadata": {},
     "outputs": [],
     "prompt_number": 4
    },
    {
     "cell_type": "code",
     "collapsed": false,
     "input": [
      "imu=IdealIMU(simulation=sim,trajectory=trajectory)"
     ],
     "language": "python",
     "metadata": {},
     "outputs": [],
     "prompt_number": 5
    },
    {
     "cell_type": "code",
     "collapsed": false,
     "input": [
      "dt = 0.01"
     ],
     "language": "python",
     "metadata": {},
     "outputs": [],
     "prompt_number": 6
    },
    {
     "cell_type": "code",
     "collapsed": false,
     "input": [
      "# this function has evolved platform keyword\n",
      "behaviour = BasicIMUBehaviour(imu,samplingPeriod=dt)"
     ],
     "language": "python",
     "metadata": {},
     "outputs": [],
     "prompt_number": 7
    },
    {
     "cell_type": "code",
     "collapsed": false,
     "input": [
      "sim.time=0"
     ],
     "language": "python",
     "metadata": {},
     "outputs": [],
     "prompt_number": 8
    },
    {
     "cell_type": "code",
     "collapsed": false,
     "input": [
      "sim.run(100)"
     ],
     "language": "python",
     "metadata": {},
     "outputs": [
      {
       "output_type": "stream",
       "stream": "stdout",
       "text": [
        "Simulating...\n",
        "Simulated 5.0s of 100.0s (  5%). Estimated time remaining 19.7s"
       ]
      },
      {
       "output_type": "stream",
       "stream": "stdout",
       "text": [
        "\n",
        "Simulated 10.0s of 100.0s ( 10%). Estimated time remaining 17.0s"
       ]
      },
      {
       "output_type": "stream",
       "stream": "stdout",
       "text": [
        "\n",
        "Simulated 15.0s of 100.0s ( 15%). Estimated time remaining 14.6s"
       ]
      },
      {
       "output_type": "stream",
       "stream": "stdout",
       "text": [
        "\n",
        "Simulated 20.0s of 100.0s ( 20%). Estimated time remaining 13.8s"
       ]
      },
      {
       "output_type": "stream",
       "stream": "stdout",
       "text": [
        "\n",
        "Simulated 25.0s of 100.0s ( 25%). Estimated time remaining 13.0s"
       ]
      },
      {
       "output_type": "stream",
       "stream": "stdout",
       "text": [
        "\n",
        "Simulated 30.0s of 100.0s ( 30%). Estimated time remaining 12.2s"
       ]
      },
      {
       "output_type": "stream",
       "stream": "stdout",
       "text": [
        "\n",
        "Simulated 35.0s of 100.0s ( 35%). Estimated time remaining 11.4s"
       ]
      },
      {
       "output_type": "stream",
       "stream": "stdout",
       "text": [
        "\n",
        "Simulated 40.0s of 100.0s ( 40%). Estimated time remaining 10.5s"
       ]
      },
      {
       "output_type": "stream",
       "stream": "stdout",
       "text": [
        "\n",
        "Simulated 45.0s of 100.0s ( 45%). Estimated time remaining 9.7s"
       ]
      },
      {
       "output_type": "stream",
       "stream": "stdout",
       "text": [
        "\n",
        "Simulated 50.0s of 100.0s ( 50%). Estimated time remaining 8.8s"
       ]
      },
      {
       "output_type": "stream",
       "stream": "stdout",
       "text": [
        "\n",
        "Simulated 55.0s of 100.0s ( 55%). Estimated time remaining 8.0s"
       ]
      },
      {
       "output_type": "stream",
       "stream": "stdout",
       "text": [
        "\n",
        "Simulated 60.0s of 100.0s ( 60%). Estimated time remaining 7.2s"
       ]
      },
      {
       "output_type": "stream",
       "stream": "stdout",
       "text": [
        "\n",
        "Simulated 65.0s of 100.0s ( 65%). Estimated time remaining 6.4s"
       ]
      },
      {
       "output_type": "stream",
       "stream": "stdout",
       "text": [
        "\n",
        "Simulated 70.0s of 100.0s ( 70%). Estimated time remaining 5.7s"
       ]
      },
      {
       "output_type": "stream",
       "stream": "stdout",
       "text": [
        "\n",
        "Simulated 75.0s of 100.0s ( 75%). Estimated time remaining 4.9s"
       ]
      },
      {
       "output_type": "stream",
       "stream": "stdout",
       "text": [
        "\n",
        "Simulated 80.0s of 100.0s ( 80%). Estimated time remaining 4.0s"
       ]
      },
      {
       "output_type": "stream",
       "stream": "stdout",
       "text": [
        "\n",
        "Simulated 85.0s of 100.0s ( 85%). Estimated time remaining 3.3s"
       ]
      },
      {
       "output_type": "stream",
       "stream": "stdout",
       "text": [
        "\n",
        "Simulated 90.0s of 100.0s ( 90%). Estimated time remaining 2.6s"
       ]
      },
      {
       "output_type": "stream",
       "stream": "stdout",
       "text": [
        "\n",
        "Simulated 95.0s of 100.0s ( 95%). Estimated time remaining 1.7s"
       ]
      },
      {
       "output_type": "stream",
       "stream": "stdout",
       "text": [
        "\n",
        "Simulated 100.0s of 100.0s (100%). Estimated time remaining 0.8s"
       ]
      },
      {
       "output_type": "stream",
       "stream": "stdout",
       "text": [
        "\n",
        "Simulation complete.\n",
        "Simulated 100.0 seconds in 16.6 seconds.\n"
       ]
      }
     ],
     "prompt_number": 9
    },
    {
     "cell_type": "code",
     "collapsed": false,
     "input": [
      "# Plot accelerometer measurements\n",
      "plot(imu.accelerometer.rawMeasurements)\n",
      "title(\"Accelerometer Readings\")\n",
      "xlabel(\"Time (s)\")\n",
      "ylabel(\"Acceleration (m/s^2)\")\n",
      "legend()"
     ],
     "language": "python",
     "metadata": {},
     "outputs": [
      {
       "metadata": {},
       "output_type": "pyout",
       "prompt_number": 10,
       "text": [
        "<matplotlib.legend.Legend at 0x7f85b8c4bf10>"
       ]
      },
      {
       "metadata": {},
       "output_type": "display_data",
       "png": "[encoded data removed]",
       "text": [
        "<matplotlib.figure.Figure at 0x7fbb810>"
       ]
      }
     ],
     "prompt_number": 10
    },
    {
     "cell_type": "code",
     "collapsed": false,
     "input": [
      "imu.accelerometer.rawMeasurements.timestamps"
     ],
     "language": "python",
     "metadata": {},
     "outputs": [
      {
       "metadata": {},
       "output_type": "pyout",
       "prompt_number": 11,
       "text": [
        "array([  1.00000000e-02,   2.00000000e-02,   3.00000000e-02, ...,\n",
        "         9.99700000e+01,   9.99800000e+01,   9.99900000e+01])"
       ]
      }
     ],
     "prompt_number": 11
    },
    {
     "cell_type": "code",
     "collapsed": false,
     "input": [
      "from imusim.maths.quaternions import *\n"
     ],
     "language": "python",
     "metadata": {},
     "outputs": [],
     "prompt_number": 12
    },
    {
     "cell_type": "code",
     "collapsed": false,
     "input": [
      "q1 = Quaternion(0,1,0,0)"
     ],
     "language": "python",
     "metadata": {},
     "outputs": [],
     "prompt_number": 13
    },
    {
     "cell_type": "code",
     "collapsed": false,
     "input": [
      "q1.toMatrix()"
     ],
     "language": "python",
     "metadata": {},
     "outputs": [
      {
       "metadata": {},
       "output_type": "pyout",
       "prompt_number": 14,
       "text": [
        "matrix([[ 1.,  0.,  0.],\n",
        "        [ 0., -1.,  0.],\n",
        "        [ 0.,  0., -1.]])"
       ]
      }
     ],
     "prompt_number": 14
    },
    {
     "cell_type": "code",
     "collapsed": false,
     "input": [
      "q2 = Quaternion.fromEuler((45, 10, 30), order='zyx') "
     ],
     "language": "python",
     "metadata": {},
     "outputs": [],
     "prompt_number": 15
    },
    {
     "cell_type": "code",
     "collapsed": false,
     "input": [
      "q1*q2"
     ],
     "language": "python",
     "metadata": {},
     "outputs": [
      {
       "metadata": {},
       "output_type": "pyout",
       "prompt_number": 16,
       "text": [
        "Quaternion(-0.20599112279858978, 0.897635659657183, -0.3473967306812714, 0.17644656798009617)"
       ]
      }
     ],
     "prompt_number": 16
    },
    {
     "cell_type": "code",
     "collapsed": false,
     "input": [
      "q2.rotateVector(vector(1,2,3))\n",
      "array([[ 0.97407942],\n",
      "[ 1.30224882],\n",
      "[ 3.36976517]])\n"
     ],
     "language": "python",
     "metadata": {},
     "outputs": [
      {
       "metadata": {},
       "output_type": "pyout",
       "prompt_number": 17,
       "text": [
        "array([[ 0.97407942],\n",
        "       [ 1.30224882],\n",
        "       [ 3.36976517]])"
       ]
      }
     ],
     "prompt_number": 17
    },
    {
     "cell_type": "code",
     "collapsed": false,
     "input": [
      "trajectory.rotationKeyFrames.values"
     ],
     "language": "python",
     "metadata": {},
     "outputs": [
      {
       "metadata": {},
       "output_type": "pyout",
       "prompt_number": 18,
       "text": [
        "QuaternionArray(array([[-0.04667991, -0.82763194,  0.29852366, -0.47300103],\n",
        "       [-0.10730387, -0.8172798 ,  0.33822558, -0.45402981],\n",
        "       [-0.16996112, -0.80182884,  0.37820052, -0.43028838],\n",
        "       [-0.2328968 , -0.7810379 ,  0.41732107, -0.40197264],\n",
        "       [-0.29452363, -0.75500834,  0.45462196, -0.36950927],\n",
        "       [-0.35332268, -0.72424499,  0.48915533, -0.33370547],\n",
        "       [-0.4078004 , -0.6897534 ,  0.52007773, -0.29573338],\n",
        "       [-0.45664897, -0.65299531,  0.54682316, -0.25700832],\n",
        "       [-0.49900231, -0.61560445,  0.56926517, -0.21900919],\n",
        "       [-0.53456731, -0.57899955,  0.58776318, -0.18311679],\n",
        "       [-0.56331213, -0.54452305,  0.60288927, -0.15066064],\n",
        "       [-0.58540011, -0.51350442,  0.61526122, -0.12277437],\n",
        "       [-0.6012715 , -0.48712119,  0.6254324 , -0.10009921],\n",
        "       [-0.61141682, -0.46638525,  0.63384678, -0.08302125],\n",
        "       [-0.61622344, -0.45215591,  0.64082601, -0.07187306],\n",
        "       [-0.61598622, -0.44494137,  0.6466071 , -0.06698818],\n",
        "       [-0.61097333, -0.44458277,  0.65141047, -0.06871794],\n",
        "       [-0.60132991, -0.45053091,  0.65531465, -0.07737532],\n",
        "       [-0.5871482 , -0.46196828,  0.65818501, -0.09292362],\n",
        "       [-0.56869358, -0.47774446,  0.65971727, -0.11454678],\n",
        "       [-0.54635034, -0.49656594,  0.65956365, -0.14106513],\n",
        "       [-0.5205875 , -0.5171497 ,  0.65743534, -0.17124141],\n",
        "       [-0.49198078, -0.53830029,  0.65316934, -0.20385662],\n",
        "       [-0.46121256, -0.55896979,  0.64676551, -0.23776062],\n",
        "       [-0.42903983, -0.57830349,  0.63839432, -0.27192389],\n",
        "       [-0.39625516, -0.59566146,  0.62839026, -0.30544223],\n",
        "       [-0.3637156 , -0.61059452,  0.61726344, -0.33744799],\n",
        "       [-0.33242695, -0.62278923,  0.60571171, -0.36706843],\n",
        "       [-0.3035407 , -0.63205916,  0.59460679, -0.39345524],\n",
        "       [-0.27830236, -0.63833832,  0.58495501, -0.41581201],\n",
        "       [-0.25799606, -0.64164595,  0.57783878, -0.43339457],\n",
        "       [-0.24385213, -0.64203349,  0.57432909, -0.44550559],\n",
        "       [-0.23669045, -0.63957856,  0.5752922 , -0.45161464],\n",
        "       [-0.23643633, -0.63440456,  0.58115178, -0.45154327],\n",
        "       [-0.24257215, -0.62650425,  0.59201545, -0.44516164],\n",
        "       [-0.25447455, -0.61567492,  0.6077669 , -0.43221116],\n",
        "       [-0.27150261, -0.60163346,  0.62791466, -0.41236718],\n",
        "       [-0.29307148, -0.58420588,  0.65138422, -0.3853715 ],\n",
        "       [-0.3185927 , -0.5632265 ,  0.67681953, -0.35098422],\n",
        "       [-0.34726186, -0.53846815,  0.70278347, -0.30912239],\n",
        "       [-0.37780815, -0.5097105 ,  0.72784262, -0.26019477],\n",
        "       [-0.40877213, -0.47687408,  0.75065969, -0.20495482],\n",
        "       [-0.43872846, -0.44008878,  0.77006501, -0.14435749],\n",
        "       [-0.46633273, -0.39984849,  0.78505324, -0.07966419],\n",
        "       [-0.49036817, -0.35726831,  0.79481979, -0.01264564],\n",
        "       [-0.50995511, -0.31381097,  0.79903957,  0.05481079],\n",
        "       [-0.52467891, -0.27085459,  0.79793049,  0.12106518],\n",
        "       [-0.53457052, -0.22945244,  0.79213344,  0.18469042],\n",
        "       [-0.53991456, -0.19066449,  0.78262161,  0.24421862],\n",
        "       [-0.54119562, -0.15567636,  0.77069195,  0.29817123],\n",
        "       [-0.53905314, -0.1255943 ,  0.75787536,  0.34535883],\n",
        "       [-0.53414072, -0.10116727,  0.74571883,  0.38517829],\n",
        "       [-0.52705426, -0.082936  ,  0.73567632,  0.41727183],\n",
        "       [-0.51828683, -0.0711508 ,  0.72900611,  0.44143678],\n",
        "       [-0.50813831, -0.06546329,  0.72659224,  0.45779223],\n",
        "       [-0.49669202, -0.06524006,  0.72897953,  0.46650789],\n",
        "       [-0.48386171, -0.06979911,  0.73643181,  0.46762605],\n",
        "       [-0.46953446, -0.07846062,  0.74883301,  0.46111869],\n",
        "       [-0.45375558, -0.09057622,  0.7655523 ,  0.44702516],\n",
        "       [-0.43658193, -0.10550951,  0.78568733,  0.4253932 ],\n",
        "       [-0.41794097, -0.12254872,  0.8081672 ,  0.39645042],\n",
        "       [-0.39760182, -0.14078611,  0.83172532,  0.36100562],\n",
        "       [-0.37536546, -0.15921169,  0.85509571,  0.32025575],\n",
        "       [-0.35119161, -0.17680804,  0.87718032,  0.2756049 ],\n",
        "       [-0.32535113, -0.19259203,  0.89710683,  0.22859196],\n",
        "       [-0.29861417, -0.20563993,  0.91424701,  0.18081539],\n",
        "       [-0.2719796 , -0.21515939,  0.92833877,  0.1338681 ],\n",
        "       [-0.24627145, -0.2206957 ,  0.93951282,  0.08921576],\n",
        "       [-0.22180873, -0.22237352,  0.94817418,  0.04813131],\n",
        "       [-0.19871325, -0.22056228,  0.95484286,  0.01185079],\n",
        "       [-0.17711255, -0.21566642,  0.96009489, -0.018356  ],\n",
        "       [-0.15715441, -0.20809279,  0.96452236, -0.04118864],\n",
        "       [-0.13899305, -0.19824138,  0.96866955, -0.05532269],\n",
        "       [-0.1227638 , -0.18650241,  0.97293852, -0.05946885],\n",
        "       [-0.10846696, -0.17329913,  0.97745495, -0.05276503],\n",
        "       [-0.09579578, -0.15914244,  0.98196179, -0.0353256 ],\n",
        "       [-0.0842715 , -0.14453596,  0.98587461, -0.00767589],\n",
        "       [-0.07336399, -0.12993547,  0.98836114,  0.02961003],\n",
        "       [-0.06252571, -0.11576636,  0.98840917,  0.07573636],\n",
        "       [-0.05120822, -0.10245129,  0.98496032,  0.12936233],\n",
        "       [-0.03889009, -0.09041733,  0.97705011,  0.18890567],\n",
        "       [-0.0252274 , -0.080031  ,  0.96389673,  0.25270876],\n",
        "       [-0.01028105, -0.07151234,  0.94501302,  0.31895247],\n",
        "       [ 0.00568957, -0.06503944,  0.92029062,  0.3857495 ],\n",
        "       [ 0.02239312, -0.06080499,  0.89002068,  0.45129203],\n",
        "       [ 0.03954442, -0.05900174,  0.85494048,  0.51384026],\n",
        "       [ 0.05685846, -0.05980357,  0.81638604,  0.57158068],\n",
        "       [ 0.07408025, -0.06336717,  0.77621417,  0.62288705],\n",
        "       [ 0.09109495, -0.06964432,  0.73645332,  0.66669925],\n",
        "       [ 0.10802652, -0.07808017,  0.69888621,  0.70270323],\n",
        "       [ 0.125091  , -0.08788977,  0.66519102,  0.73085466],\n",
        "       [ 0.14250751, -0.09825621,  0.63704743,  0.75113773],\n",
        "       [ 0.16050178, -0.10836815,  0.61595013,  0.76361048],\n",
        "       [ 0.1793289 , -0.11743508,  0.60289448,  0.76848447],\n",
        "       [ 0.1992177 , -0.1246726 ,  0.59847214,  0.76589826],\n",
        "       [ 0.22027375, -0.12940602,  0.60273429,  0.75593977],\n",
        "       [ 0.24240726, -0.13125899,  0.61484992,  0.7388974 ],\n",
        "       [ 0.26542681, -0.12997148,  0.6335319 ,  0.7150478 ],\n",
        "       [ 0.28909881, -0.12527588,  0.65735709,  0.68455058],\n",
        "       [ 0.31316149, -0.11688927,  0.68484479,  0.64749856],\n",
        "       [ 0.33733518, -0.10452523,  0.71448652,  0.60397721],\n",
        "       [ 0.36131515, -0.08793042,  0.74475448,  0.55413028],\n",
        "       [ 0.38465909, -0.06708622,  0.77403534,  0.49840357],\n",
        "       [ 0.40666661, -0.04250812,  0.80062722,  0.43796277],\n",
        "       [ 0.42667426, -0.01498163,  0.82309247,  0.37449087]]))"
       ]
      }
     ],
     "prompt_number": 18
    },
    {
     "cell_type": "code",
     "collapsed": false,
     "input": [
      "trajectory.position(1)"
     ],
     "language": "python",
     "metadata": {},
     "outputs": [
      {
       "metadata": {},
       "output_type": "pyout",
       "prompt_number": 19,
       "text": [
        "array([[ nan],\n",
        "       [ nan],\n",
        "       [ nan]])"
       ]
      }
     ],
     "prompt_number": 19
    },
    {
     "cell_type": "heading",
     "level": 1,
     "metadata": {},
     "source": [
      "Reading a bvh file\n"
     ]
    },
    {
     "cell_type": "code",
     "collapsed": false,
     "input": [
      "model = loadBVHFile('../data/manwalk.bvh', CM_TO_M_CONVERSION)"
     ],
     "language": "python",
     "metadata": {},
     "outputs": [],
     "prompt_number": 21
    },
    {
     "cell_type": "code",
     "collapsed": false,
     "input": [
      "splinedBody = SplinedBodyModel(model)"
     ],
     "language": "python",
     "metadata": {},
     "outputs": [],
     "prompt_number": 47
    },
    {
     "cell_type": "code",
     "collapsed": false,
     "input": [
      "splinedBody.acceleration(6.5)"
     ],
     "language": "python",
     "metadata": {},
     "outputs": [
      {
       "metadata": {},
       "output_type": "pyout",
       "prompt_number": 52,
       "text": [
        "array([[-0.05601755],\n",
        "       [-0.05032781],\n",
        "       [ 0.00402519]])"
       ]
      }
     ],
     "prompt_number": 52
    },
    {
     "cell_type": "code",
     "collapsed": false,
     "input": [
      "model.channels"
     ],
     "language": "python",
     "metadata": {},
     "outputs": [
      {
       "metadata": {},
       "output_type": "pyout",
       "prompt_number": 23,
       "text": [
        "['Xposition', 'Yposition', 'Zposition', 'Zrotation', 'Xrotation', 'Yrotation']"
       ]
      }
     ],
     "prompt_number": 23
    },
    {
     "cell_type": "code",
     "collapsed": false,
     "input": [
      "model.children"
     ],
     "language": "python",
     "metadata": {},
     "outputs": [
      {
       "metadata": {},
       "output_type": "pyout",
       "prompt_number": 24,
       "text": [
        "[<imusim.trajectories.rigid_body.SampledJoint at 0x7ee3650>,\n",
        " <imusim.trajectories.rigid_body.SampledJoint at 0x7fd2290>,\n",
        " <imusim.trajectories.rigid_body.SampledJoint at 0x7fd2790>]"
       ]
      }
     ],
     "prompt_number": 24
    },
    {
     "cell_type": "code",
     "collapsed": false,
     "input": [
      "model.depth"
     ],
     "language": "python",
     "metadata": {},
     "outputs": [
      {
       "metadata": {},
       "output_type": "pyout",
       "prompt_number": 25,
       "text": [
        "0"
       ]
      }
     ],
     "prompt_number": 25
    },
    {
     "cell_type": "code",
     "collapsed": false,
     "input": [
      "model.startTime"
     ],
     "language": "python",
     "metadata": {},
     "outputs": [
      {
       "metadata": {},
       "output_type": "pyout",
       "prompt_number": 27,
       "text": [
        "0.0"
       ]
      }
     ],
     "prompt_number": 27
    },
    {
     "cell_type": "code",
     "collapsed": false,
     "input": [
      "model.endTime"
     ],
     "language": "python",
     "metadata": {},
     "outputs": [
      {
       "metadata": {},
       "output_type": "pyout",
       "prompt_number": 26,
       "text": [
        "6.6668"
       ]
      }
     ],
     "prompt_number": 26
    },
    {
     "cell_type": "code",
     "collapsed": false,
     "input": [
      "model.hasChildJoints"
     ],
     "language": "python",
     "metadata": {},
     "outputs": [
      {
       "metadata": {},
       "output_type": "pyout",
       "prompt_number": 28,
       "text": [
        "True"
       ]
      }
     ],
     "prompt_number": 28
    },
    {
     "cell_type": "code",
     "collapsed": false,
     "input": [
      "model.hasChildren"
     ],
     "language": "python",
     "metadata": {},
     "outputs": [
      {
       "metadata": {},
       "output_type": "pyout",
       "prompt_number": 29,
       "text": [
        "True"
       ]
      }
     ],
     "prompt_number": 29
    },
    {
     "cell_type": "code",
     "collapsed": false,
     "input": [
      "model.isJoint"
     ],
     "language": "python",
     "metadata": {},
     "outputs": [
      {
       "metadata": {},
       "output_type": "pyout",
       "prompt_number": 30,
       "text": [
        "True"
       ]
      }
     ],
     "prompt_number": 30
    },
    {
     "cell_type": "heading",
     "level": 2,
     "metadata": {},
     "source": [
      "Realistic simulation of an IMU on the foot of a walking human "
     ]
    },
    {
     "cell_type": "markdown",
     "metadata": {},
     "source": [
      "This example is borrow from the IMUSIM presention **IMUSim: Simulating inertial and magnetic sensor\n",
      "systems in Python** of Martin Ling & Alex Young at 10th SciPy Conference, 13th July 2011, Austin, Texas\n",
      "from\n",
      "\n"
     ]
    },
    {
     "cell_type": "code",
     "collapsed": false,
     "input": [
      "# Define a sampling period \n",
      "dt = 0.01 "
     ],
     "language": "python",
     "metadata": {},
     "outputs": [],
     "prompt_number": 33
    },
    {
     "cell_type": "code",
     "collapsed": false,
     "input": [
      "# Create an instance of a realistic IMU model \n",
      "imu = Orient3IMU() "
     ],
     "language": "python",
     "metadata": {},
     "outputs": [],
     "prompt_number": 35
    },
    {
     "cell_type": "code",
     "collapsed": false,
     "input": [
      "# Attach the IMU to the subject\u2019s right foot"
     ],
     "language": "python",
     "metadata": {},
     "outputs": []
    },
    {
     "cell_type": "code",
     "collapsed": false,
     "input": [
      "# Create a magnetic field model from sampled data \n",
      "magField = InterpolatedVectorField( sim.time = splinedModel.startTime\n",
      "loadtxt('positions.txt'), \n",
      "loadtxt('values.txt')) "
     ],
     "language": "python",
     "metadata": {},
     "outputs": [
      {
       "ename": "SyntaxError",
       "evalue": "invalid syntax (<ipython-input-39-4188aae492c2>, line 3)",
       "output_type": "pyerr",
       "traceback": [
        "\u001b[1;36m  File \u001b[1;32m\"<ipython-input-39-4188aae492c2>\"\u001b[1;36m, line \u001b[1;32m3\u001b[0m\n\u001b[1;33m    loadtxt('positions.txt'),\u001b[0m\n\u001b[1;37m          ^\u001b[0m\n\u001b[1;31mSyntaxError\u001b[0m\u001b[1;31m:\u001b[0m invalid syntax\n"
       ]
      }
     ],
     "prompt_number": 39
    },
    {
     "cell_type": "code",
     "collapsed": false,
     "input": [
      "# Create an environment using this field\n",
      "env = Environment(magneticField=magField)"
     ],
     "language": "python",
     "metadata": {},
     "outputs": [
      {
       "ename": "NameError",
       "evalue": "name 'magField' is not defined",
       "output_type": "pyerr",
       "traceback": [
        "\u001b[1;31m---------------------------------------------------------------------------\u001b[0m\n\u001b[1;31mNameError\u001b[0m                                 Traceback (most recent call last)",
        "\u001b[1;32m<ipython-input-38-0310b0496c5f>\u001b[0m in \u001b[0;36m<module>\u001b[1;34m()\u001b[0m\n\u001b[0;32m      1\u001b[0m \u001b[1;31m# Create an environment using this field\u001b[0m\u001b[1;33m\u001b[0m\u001b[1;33m\u001b[0m\u001b[0m\n\u001b[1;32m----> 2\u001b[1;33m \u001b[0menv\u001b[0m \u001b[1;33m=\u001b[0m \u001b[0mEnvironment\u001b[0m\u001b[1;33m(\u001b[0m\u001b[0mmagneticField\u001b[0m\u001b[1;33m=\u001b[0m\u001b[0mmagField\u001b[0m\u001b[1;33m)\u001b[0m\u001b[1;33m\u001b[0m\u001b[0m\n\u001b[0m",
        "\u001b[1;31mNameError\u001b[0m: name 'magField' is not defined"
       ]
      }
     ],
     "prompt_number": 38
    },
    {
     "cell_type": "code",
     "collapsed": false,
     "input": [
      "# Define a procedure for calibrating an IMU\n",
      "# in our target environment\n",
      "calibrator = ScaleAndOffsetCalibrator(\n",
      "environment=env, samples=1000,\n",
      "samplingPeriod=dt, rotationalVelocity=20)"
     ],
     "language": "python",
     "metadata": {},
     "outputs": [
      {
       "ename": "NameError",
       "evalue": "name 'env' is not defined",
       "output_type": "pyerr",
       "traceback": [
        "\u001b[1;31m---------------------------------------------------------------------------\u001b[0m\n\u001b[1;31mNameError\u001b[0m                                 Traceback (most recent call last)",
        "\u001b[1;32m<ipython-input-37-ab4f6b5778ce>\u001b[0m in \u001b[0;36m<module>\u001b[1;34m()\u001b[0m\n\u001b[0;32m      2\u001b[0m \u001b[1;31m# in our target environment\u001b[0m\u001b[1;33m\u001b[0m\u001b[1;33m\u001b[0m\u001b[0m\n\u001b[0;32m      3\u001b[0m calibrator = ScaleAndOffsetCalibrator(\n\u001b[1;32m----> 4\u001b[1;33m \u001b[0menvironment\u001b[0m\u001b[1;33m=\u001b[0m\u001b[0menv\u001b[0m\u001b[1;33m,\u001b[0m \u001b[0msamples\u001b[0m\u001b[1;33m=\u001b[0m\u001b[1;36m1000\u001b[0m\u001b[1;33m,\u001b[0m\u001b[1;33m\u001b[0m\u001b[0m\n\u001b[0m\u001b[0;32m      5\u001b[0m samplingPeriod=dt, rotationalVelocity=20)\n",
        "\u001b[1;31mNameError\u001b[0m: name 'env' is not defined"
       ]
      }
     ],
     "prompt_number": 37
    },
    {
     "cell_type": "code",
     "collapsed": false,
     "input": [
      "# Calibrate the IMU\n",
      "cal = calibrator.calibrate(imu)"
     ],
     "language": "python",
     "metadata": {},
     "outputs": [
      {
       "ename": "NameError",
       "evalue": "name 'calibrator' is not defined",
       "output_type": "pyerr",
       "traceback": [
        "\u001b[1;31m---------------------------------------------------------------------------\u001b[0m\n\u001b[1;31mNameError\u001b[0m                                 Traceback (most recent call last)",
        "\u001b[1;32m<ipython-input-45-add073e2886d>\u001b[0m in \u001b[0;36m<module>\u001b[1;34m()\u001b[0m\n\u001b[0;32m      1\u001b[0m \u001b[1;31m# Calibrate the IMU\u001b[0m\u001b[1;33m\u001b[0m\u001b[1;33m\u001b[0m\u001b[0m\n\u001b[1;32m----> 2\u001b[1;33m \u001b[0mcal\u001b[0m \u001b[1;33m=\u001b[0m \u001b[0mcalibrator\u001b[0m\u001b[1;33m.\u001b[0m\u001b[0mcalibrate\u001b[0m\u001b[1;33m(\u001b[0m\u001b[0mimu\u001b[0m\u001b[1;33m)\u001b[0m\u001b[1;33m\u001b[0m\u001b[0m\n\u001b[0m",
        "\u001b[1;31mNameError\u001b[0m: name 'calibrator' is not defined"
       ]
      }
     ],
     "prompt_number": 45
    },
    {
     "cell_type": "code",
     "collapsed": false,
     "input": [
      "# Set the starting time of the simulation"
     ],
     "language": "python",
     "metadata": {},
     "outputs": []
    },
    {
     "cell_type": "code",
     "collapsed": false,
     "input": [
      "tx = []\n",
      "for k in range(100):\n",
      "    tx.append(model.position(k)[1][0])\n",
      "    "
     ],
     "language": "python",
     "metadata": {},
     "outputs": [],
     "prompt_number": 22
    },
    {
     "cell_type": "code",
     "collapsed": false,
     "input": [
      "model.position(1)"
     ],
     "language": "python",
     "metadata": {},
     "outputs": [
      {
       "metadata": {},
       "output_type": "pyout",
       "prompt_number": 44,
       "text": [
        "array([[-0.03398059],\n",
        "       [-0.03102199],\n",
        "       [-0.37603275]])"
       ]
      }
     ],
     "prompt_number": 44
    },
    {
     "cell_type": "code",
     "collapsed": false,
     "input": [
      "c0=model.children[0]"
     ],
     "language": "python",
     "metadata": {},
     "outputs": [],
     "prompt_number": 35
    },
    {
     "cell_type": "code",
     "collapsed": false,
     "input": [
      "model.depth"
     ],
     "language": "python",
     "metadata": {},
     "outputs": [
      {
       "metadata": {},
       "output_type": "pyout",
       "prompt_number": 36,
       "text": [
        "0"
       ]
      }
     ],
     "prompt_number": 36
    },
    {
     "cell_type": "code",
     "collapsed": false,
     "input": [
      "model.root.position(1)"
     ],
     "language": "python",
     "metadata": {},
     "outputs": [
      {
       "metadata": {},
       "output_type": "pyout",
       "prompt_number": 43,
       "text": [
        "array([[-0.03398059],\n",
        "       [-0.03102199],\n",
        "       [-0.37603275]])"
       ]
      }
     ],
     "prompt_number": 43
    },
    {
     "cell_type": "code",
     "collapsed": false,
     "input": [
      "renderer = BodyModelRenderer(model)\n",
      "InteractiveAnimation(1/100.0, model.endTime, renderer)"
     ],
     "language": "python",
     "metadata": {},
     "outputs": []
    },
    {
     "cell_type": "code",
     "collapsed": false,
     "input": [
      "trajectory.position(10)"
     ],
     "language": "python",
     "metadata": {},
     "outputs": [
      {
       "metadata": {},
       "output_type": "pyout",
       "prompt_number": 44,
       "text": [
        "array([[ nan],\n",
        "       [ nan],\n",
        "       [ nan]])"
       ]
      }
     ],
     "prompt_number": 44
    },
    {
     "cell_type": "code",
     "collapsed": false,
     "input": [],
     "language": "python",
     "metadata": {},
     "outputs": []
    }
   ],
   "metadata": {}
  }
 ]
}