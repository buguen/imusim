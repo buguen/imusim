{
 "metadata": {
  "name": "IMUSIM"
 },
 "nbformat": 3,
 "nbformat_minor": 0,
 "worksheets": [
  {
   "cells": [
    {
     "cell_type": "code",
     "collapsed": false,
     "input": [
      "from imusim.all import *"
     ],
     "language": "python",
     "metadata": {},
     "outputs": [],
     "prompt_number": 2
    },
    {
     "cell_type": "code",
     "collapsed": false,
     "input": [
      "    # Create a simulation\n",
      "sim=Simulation()"
     ],
     "language": "python",
     "metadata": {},
     "outputs": [],
     "prompt_number": 3
    },
    {
     "cell_type": "code",
     "collapsed": false,
     "input": [
      "# Create a randomly defined trajectory\n",
      "trajectory = RandomTrajectory()"
     ],
     "language": "python",
     "metadata": {},
     "outputs": [],
     "prompt_number": 4
    },
    {
     "cell_type": "code",
     "collapsed": false,
     "input": [
      "imu=IdealIMU(simulation=sim,trajectory=trajectory)"
     ],
     "language": "python",
     "metadata": {},
     "outputs": [],
     "prompt_number": 5
    },
    {
     "cell_type": "code",
     "collapsed": false,
     "input": [
      "dt = 0.01"
     ],
     "language": "python",
     "metadata": {},
     "outputs": [],
     "prompt_number": 6
    },
    {
     "cell_type": "code",
     "collapsed": false,
     "input": [
      "# this function has evolved platform keyword\n",
      "behaviour = BasicIMUBehaviour(imu,samplingPeriod=dt)"
     ],
     "language": "python",
     "metadata": {},
     "outputs": [],
     "prompt_number": 7
    },
    {
     "cell_type": "code",
     "collapsed": false,
     "input": [
      "sim.time=0"
     ],
     "language": "python",
     "metadata": {},
     "outputs": [],
     "prompt_number": 8
    },
    {
     "cell_type": "code",
     "collapsed": false,
     "input": [
      "sim.run(100)"
     ],
     "language": "python",
     "metadata": {},
     "outputs": [
      {
       "output_type": "stream",
       "stream": "stdout",
       "text": [
        "Simulating...\n",
        "Simulated 5.0s of 100.0s (  5%). Estimated time remaining 6.5s"
       ]
      },
      {
       "output_type": "stream",
       "stream": "stdout",
       "text": [
        "\n",
        "Simulated 10.0s of 100.0s ( 10%). Estimated time remaining 5.5s"
       ]
      },
      {
       "output_type": "stream",
       "stream": "stdout",
       "text": [
        "\n",
        "Simulated 15.0s of 100.0s ( 15%). Estimated time remaining 4.8s"
       ]
      },
      {
       "output_type": "stream",
       "stream": "stdout",
       "text": [
        "\n",
        "Simulated 20.0s of 100.0s ( 20%). Estimated time remaining 4.5s"
       ]
      },
      {
       "output_type": "stream",
       "stream": "stdout",
       "text": [
        "\n",
        "Simulated 25.0s of 100.0s ( 25%). Estimated time remaining 4.3s"
       ]
      },
      {
       "output_type": "stream",
       "stream": "stdout",
       "text": [
        "\n",
        "Simulated 30.0s of 100.0s ( 30%). Estimated time remaining 4.0s"
       ]
      },
      {
       "output_type": "stream",
       "stream": "stdout",
       "text": [
        "\n",
        "Simulated 35.0s of 100.0s ( 35%). Estimated time remaining 3.9s"
       ]
      },
      {
       "output_type": "stream",
       "stream": "stdout",
       "text": [
        "\n",
        "Simulated 40.0s of 100.0s ( 40%). Estimated time remaining 4.0s"
       ]
      },
      {
       "output_type": "stream",
       "stream": "stdout",
       "text": [
        "\n",
        "Simulated 45.0s of 100.0s ( 45%). Estimated time remaining 3.5s"
       ]
      },
      {
       "output_type": "stream",
       "stream": "stdout",
       "text": [
        "\n",
        "Simulated 50.0s of 100.0s ( 50%). Estimated time remaining 3.1s"
       ]
      },
      {
       "output_type": "stream",
       "stream": "stdout",
       "text": [
        "\n",
        "Simulated 55.0s of 100.0s ( 55%). Estimated time remaining 3.0s"
       ]
      },
      {
       "output_type": "stream",
       "stream": "stdout",
       "text": [
        "\n",
        "Simulated 60.0s of 100.0s ( 60%). Estimated time remaining 2.7s"
       ]
      },
      {
       "output_type": "stream",
       "stream": "stdout",
       "text": [
        "\n",
        "Simulated 65.0s of 100.0s ( 65%). Estimated time remaining 2.3s"
       ]
      },
      {
       "output_type": "stream",
       "stream": "stdout",
       "text": [
        "\n",
        "Simulated 70.0s of 100.0s ( 70%). Estimated time remaining 2.0s"
       ]
      },
      {
       "output_type": "stream",
       "stream": "stdout",
       "text": [
        "\n",
        "Simulated 75.0s of 100.0s ( 75%). Estimated time remaining 1.6s"
       ]
      },
      {
       "output_type": "stream",
       "stream": "stdout",
       "text": [
        "\n",
        "Simulated 80.0s of 100.0s ( 80%). Estimated time remaining 1.4s"
       ]
      },
      {
       "output_type": "stream",
       "stream": "stdout",
       "text": [
        "\n",
        "Simulated 85.0s of 100.0s ( 85%). Estimated time remaining 1.1s"
       ]
      },
      {
       "output_type": "stream",
       "stream": "stdout",
       "text": [
        "\n",
        "Simulated 90.0s of 100.0s ( 90%). Estimated time remaining 0.8s"
       ]
      },
      {
       "output_type": "stream",
       "stream": "stdout",
       "text": [
        "\n",
        "Simulated 95.0s of 100.0s ( 95%). Estimated time remaining 0.5s"
       ]
      },
      {
       "output_type": "stream",
       "stream": "stdout",
       "text": [
        "\n",
        "Simulated 100.0s of 100.0s (100%). Estimated time remaining 0.3s"
       ]
      },
      {
       "output_type": "stream",
       "stream": "stdout",
       "text": [
        "\n",
        "Simulation complete.\n",
        "Simulated 100.0 seconds in 5.7 seconds.\n"
       ]
      }
     ],
     "prompt_number": 9
    },
    {
     "cell_type": "code",
     "collapsed": false,
     "input": [
      "# Plot accelerometer measurements\n",
      "plot(imu.accelerometer.rawMeasurements)\n",
      "title(\"Accelerometer Readings\")\n",
      "xlabel(\"Time (s)\")\n",
      "ylabel(\"Acceleration (m/s^2)\")\n",
      "legend()"
     ],
     "language": "python",
     "metadata": {},
     "outputs": [
      {
       "metadata": {},
       "output_type": "pyout",
       "prompt_number": 100,
       "text": [
        "<matplotlib.legend.Legend at 0x7fb1fc2e0090>"
       ]
      },
      {
       "metadata": {},
       "output_type": "display_data",
       "png": "[encoded data removed]",
       "text": [
        "<matplotlib.figure.Figure at 0x7fb1fc2bcbd0>"
       ]
      }
     ],
     "prompt_number": 100
    },
    {
     "cell_type": "code",
     "collapsed": false,
     "input": [
      "imu.accelerometer.rawMeasurements.timestamps"
     ],
     "language": "python",
     "metadata": {},
     "outputs": [
      {
       "metadata": {},
       "output_type": "pyout",
       "prompt_number": 89,
       "text": [
        "array([  1.00000000e-02,   2.00000000e-02,   3.00000000e-02, ...,\n",
        "         9.98980000e+02,   9.98990000e+02,   9.99000000e+02])"
       ]
      }
     ],
     "prompt_number": 89
    },
    {
     "cell_type": "code",
     "collapsed": false,
     "input": [
      "from imusim.maths.quaternions import *\n"
     ],
     "language": "python",
     "metadata": {},
     "outputs": [],
     "prompt_number": 22
    },
    {
     "cell_type": "code",
     "collapsed": false,
     "input": [
      "q1 = Quaternion(0,1,0,0)"
     ],
     "language": "python",
     "metadata": {},
     "outputs": [],
     "prompt_number": 23
    },
    {
     "cell_type": "code",
     "collapsed": false,
     "input": [
      "q1.toMatrix()"
     ],
     "language": "python",
     "metadata": {},
     "outputs": [
      {
       "metadata": {},
       "output_type": "pyout",
       "prompt_number": 24,
       "text": [
        "matrix([[ 1.,  0.,  0.],\n",
        "        [ 0., -1.,  0.],\n",
        "        [ 0.,  0., -1.]])"
       ]
      }
     ],
     "prompt_number": 24
    },
    {
     "cell_type": "code",
     "collapsed": false,
     "input": [
      "q2 = Quaternion.fromEuler((45, 10, 30), order='zyx') "
     ],
     "language": "python",
     "metadata": {},
     "outputs": [],
     "prompt_number": 26
    },
    {
     "cell_type": "code",
     "collapsed": false,
     "input": [
      "q1*q2"
     ],
     "language": "python",
     "metadata": {},
     "outputs": [
      {
       "metadata": {},
       "output_type": "pyout",
       "prompt_number": 27,
       "text": [
        "Quaternion(-0.20599112279858978, 0.897635659657183, -0.3473967306812714, 0.17644656798009617)"
       ]
      }
     ],
     "prompt_number": 27
    },
    {
     "cell_type": "code",
     "collapsed": false,
     "input": [
      "q2.rotateVector(vector(1,2,3))\n",
      "array([[ 0.97407942],\n",
      "[ 1.30224882],\n",
      "[ 3.36976517]])\n"
     ],
     "language": "python",
     "metadata": {},
     "outputs": [
      {
       "metadata": {},
       "output_type": "pyout",
       "prompt_number": 28,
       "text": [
        "array([[ 0.97407942],\n",
        "       [ 1.30224882],\n",
        "       [ 3.36976517]])"
       ]
      }
     ],
     "prompt_number": 28
    },
    {
     "cell_type": "code",
     "collapsed": false,
     "input": [
      "trajectory.rotationKeyFrames.values"
     ],
     "language": "python",
     "metadata": {},
     "outputs": [
      {
       "metadata": {},
       "output_type": "pyout",
       "prompt_number": 101,
       "text": [
        "QuaternionArray(array([[-0.14437161, -0.71809028,  0.23327794, -0.63959721],\n",
        "       [-0.17901801, -0.70401835,  0.24240966, -0.64307719],\n",
        "       [-0.20972133, -0.6882472 ,  0.24926701, -0.64822737],\n",
        "       [-0.23613076, -0.67154098,  0.25337587, -0.65503865],\n",
        "       [-0.25788703, -0.65470809,  0.25425314, -0.66348093],\n",
        "       [-0.2746231 , -0.63855685,  0.25141084, -0.6735131 ],\n",
        "       [-0.28598552, -0.62384942,  0.24436934, -0.68506044],\n",
        "       [-0.29182932, -0.61113002,  0.23278181, -0.69797448],\n",
        "       [-0.292502  , -0.60048614,  0.21661179, -0.711996  ],\n",
        "       [-0.28854553, -0.59174724,  0.19593316, -0.72676467],\n",
        "       [-0.28049438, -0.58465173,  0.17080484, -0.74184295],\n",
        "       [-0.26885536, -0.57888932,  0.14128858, -0.75673079],\n",
        "       [-0.25411709, -0.57411064,  0.10762076, -0.77086915],\n",
        "       [-0.23676713, -0.56995096,  0.07045489, -0.7836666 ],\n",
        "       [-0.21732274, -0.56609292,  0.03065114, -0.79458803],\n",
        "       [-0.1963377 , -0.56230097, -0.01089446, -0.80321258],\n",
        "       [-0.17438916, -0.55842455, -0.05329844, -0.80926493],\n",
        "       [-0.15205158, -0.55434917, -0.09567758, -0.81266421],\n",
        "       [-0.1298884 , -0.54992879, -0.13707348, -0.81358355],\n",
        "       [-0.1084933 , -0.54506756, -0.17647085, -0.81239682],\n",
        "       [-0.08849436, -0.53976818, -0.21285279, -0.80963742],\n",
        "       [-0.07052036, -0.53412182, -0.24525629, -0.80597153],\n",
        "       [-0.05508556, -0.5282645 , -0.27291324, -0.802135  ],\n",
        "       [-0.04244258, -0.52230702, -0.29541193, -0.79882777],\n",
        "       [-0.03272528, -0.51631497, -0.31247999, -0.79668323],\n",
        "       [-0.02605209, -0.51030766, -0.32383463, -0.79626536],\n",
        "       [-0.02253199, -0.50425528, -0.32917164, -0.79803819],\n",
        "       [-0.022188  , -0.49811068, -0.32831344, -0.80224917],\n",
        "       [-0.02484612, -0.49186408, -0.32143327, -0.80878492],\n",
        "       [-0.03024343, -0.48548601, -0.30883634, -0.81731805],\n",
        "       [-0.03810455, -0.47890051, -0.29081366, -0.82742356],\n",
        "       [-0.0481507 , -0.47199657, -0.26763554, -0.83861312],\n",
        "       [-0.06009631, -0.46464361, -0.23956962, -0.85035354]]))"
       ]
      }
     ],
     "prompt_number": 101
    },
    {
     "cell_type": "code",
     "collapsed": false,
     "input": [
      "trajectory.position(1)"
     ],
     "language": "python",
     "metadata": {},
     "outputs": [
      {
       "metadata": {},
       "output_type": "pyout",
       "prompt_number": 41,
       "text": [
        "array([[ nan],\n",
        "       [ nan],\n",
        "       [ nan]])"
       ]
      }
     ],
     "prompt_number": 41
    },
    {
     "cell_type": "heading",
     "level": 1,
     "metadata": {},
     "source": [
      "Reading a bvh file\n"
     ]
    },
    {
     "cell_type": "code",
     "collapsed": false,
     "input": [
      "model = loadBVHFile('../minf/manwalk.bvh', CM_TO_M_CONVERSION)"
     ],
     "language": "python",
     "metadata": {},
     "outputs": [],
     "prompt_number": 10
    },
    {
     "cell_type": "code",
     "collapsed": false,
     "input": [
      "tx = []\n",
      "for k in range(100):\n",
      "    tx.append(model.position(k)[1][0])\n",
      "    "
     ],
     "language": "python",
     "metadata": {},
     "outputs": [],
     "prompt_number": 28
    },
    {
     "cell_type": "code",
     "collapsed": false,
     "input": [
      "model.position(1)"
     ],
     "language": "python",
     "metadata": {},
     "outputs": [
      {
       "metadata": {},
       "output_type": "pyout",
       "prompt_number": 44,
       "text": [
        "array([[-0.03398059],\n",
        "       [-0.03102199],\n",
        "       [-0.37603275]])"
       ]
      }
     ],
     "prompt_number": 44
    },
    {
     "cell_type": "code",
     "collapsed": false,
     "input": [
      "c0=model.children[0]"
     ],
     "language": "python",
     "metadata": {},
     "outputs": [],
     "prompt_number": 35
    },
    {
     "cell_type": "code",
     "collapsed": false,
     "input": [
      "model.depth"
     ],
     "language": "python",
     "metadata": {},
     "outputs": [
      {
       "metadata": {},
       "output_type": "pyout",
       "prompt_number": 36,
       "text": [
        "0"
       ]
      }
     ],
     "prompt_number": 36
    },
    {
     "cell_type": "code",
     "collapsed": false,
     "input": [
      "model.root.position(1)"
     ],
     "language": "python",
     "metadata": {},
     "outputs": [
      {
       "metadata": {},
       "output_type": "pyout",
       "prompt_number": 43,
       "text": [
        "array([[-0.03398059],\n",
        "       [-0.03102199],\n",
        "       [-0.37603275]])"
       ]
      }
     ],
     "prompt_number": 43
    },
    {
     "cell_type": "code",
     "collapsed": false,
     "input": [
      "renderer = BodyModelRenderer(model)\n",
      "InteractiveAnimation(1/100.0, model.endTime, renderer)"
     ],
     "language": "python",
     "metadata": {},
     "outputs": []
    },
    {
     "cell_type": "code",
     "collapsed": false,
     "input": [],
     "language": "python",
     "metadata": {},
     "outputs": []
    }
   ],
   "metadata": {}
  }
 ]
}